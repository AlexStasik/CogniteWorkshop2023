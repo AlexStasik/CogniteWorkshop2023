{
 "cells": [
  {
   "cell_type": "code",
   "execution_count": 1,
   "id": "b952cff6",
   "metadata": {},
   "outputs": [],
   "source": [
    "%matplotlib notebook"
   ]
  },
  {
   "cell_type": "code",
   "execution_count": 2,
   "id": "46f41e92",
   "metadata": {},
   "outputs": [],
   "source": [
    "import numpy as np\n",
    "from scipy import signal\n",
    "import matplotlib.pyplot as plt\n",
    "from tqdm import tqdm\n",
    "\n",
    "import scipy.fft"
   ]
  },
  {
   "cell_type": "code",
   "execution_count": 3,
   "id": "99d3acbf",
   "metadata": {},
   "outputs": [],
   "source": [
    "fs = 1.e3\n",
    "\n",
    "t = np.arange(0., 1.+1./fs, 1/fs)\n",
    "n_points = t.shape[0]\n",
    "n_samples = 100\n",
    "\n",
    "def data_sample(random_phase=False):\n",
    "    f1 = 50\n",
    "    f2 = 123\n",
    "    A1 = 2\n",
    "    A2 = 1\n",
    "    A_noise = 0.5\n",
    "    \n",
    "    phase = 0\n",
    "    if random_phase:\n",
    "        phase = np.random.uniform(0, 2.*np.pi)\n",
    "\n",
    "    x = A1**2*np.sin(2.*np.pi*f1*t) + A2**2*np.sin(2.*np.pi*f2*t+phase) + A_noise*np.random.randn(n_points)\n",
    "    \n",
    "    return x\n",
    "\n"
   ]
  },
  {
   "cell_type": "code",
   "execution_count": 4,
   "id": "641fce45",
   "metadata": {},
   "outputs": [],
   "source": [
    "data = np.array([data_sample(random_phase=True) for _ in range(n_samples)])"
   ]
  },
  {
   "cell_type": "code",
   "execution_count": null,
   "id": "0d7aaf47",
   "metadata": {},
   "outputs": [
    {
     "name": "stderr",
     "output_type": "stream",
     "text": [
      "\r",
      "  0%|                                                       | 0/501 [00:00<?, ?it/s]"
     ]
    }
   ],
   "source": [
    "ffts = np.array([scipy.fft.rfft(data[i,:]) for i in range(n_samples)])\n",
    "freq = np.fft.rfftfreq(n_points, d=1./fs)\n",
    "n_freq = freq.shape[0]\n",
    "\n",
    "res = np.empty((n_freq, n_freq))\n",
    "for i in tqdm(range(0, n_freq)):\n",
    "    for j in range(i, n_freq):\n",
    "        s = ffts[:,i] * np.conj(ffts[:,j])\n",
    "        res[i,j] = np.abs(np.sum(s)) / np.sum(np.abs(s))\n",
    "        res[j,i] = res[i,j]"
   ]
  },
  {
   "cell_type": "code",
   "execution_count": null,
   "id": "372da8a6",
   "metadata": {},
   "outputs": [],
   "source": [
    "plt.matshow(res, origin='lower')"
   ]
  },
  {
   "cell_type": "code",
   "execution_count": null,
   "id": "fde450a6",
   "metadata": {},
   "outputs": [],
   "source": []
  },
  {
   "cell_type": "code",
   "execution_count": null,
   "id": "4191032e",
   "metadata": {},
   "outputs": [],
   "source": []
  },
  {
   "cell_type": "code",
   "execution_count": null,
   "id": "b078c04f",
   "metadata": {},
   "outputs": [],
   "source": []
  },
  {
   "cell_type": "code",
   "execution_count": null,
   "id": "29d3db3d",
   "metadata": {},
   "outputs": [],
   "source": []
  }
 ],
 "metadata": {
  "kernelspec": {
   "display_name": "Python 3 (ipykernel)",
   "language": "python",
   "name": "python3"
  },
  "language_info": {
   "codemirror_mode": {
    "name": "ipython",
    "version": 3
   },
   "file_extension": ".py",
   "mimetype": "text/x-python",
   "name": "python",
   "nbconvert_exporter": "python",
   "pygments_lexer": "ipython3",
   "version": "3.9.16"
  }
 },
 "nbformat": 4,
 "nbformat_minor": 5
}
